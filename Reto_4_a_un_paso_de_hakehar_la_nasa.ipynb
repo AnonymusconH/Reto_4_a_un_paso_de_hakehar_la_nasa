{
  "nbformat": 4,
  "nbformat_minor": 0,
  "metadata": {
    "colab": {
      "provenance": [],
      "authorship_tag": "ABX9TyOu8QwP0vs6AN9iSFaQi1D3",
      "include_colab_link": true
    },
    "kernelspec": {
      "name": "python3",
      "display_name": "Python 3"
    },
    "language_info": {
      "name": "python"
    }
  },
  "cells": [
    {
      "cell_type": "markdown",
      "metadata": {
        "id": "view-in-github",
        "colab_type": "text"
      },
      "source": [
        "<a href=\"https://colab.research.google.com/github/AnonymusconH/Reto_4_a_un_paso_de_hakehar_la_nasa/blob/main/Reto_4_a_un_paso_de_hakehar_la_nasa.ipynb\" target=\"_parent\"><img src=\"https://colab.research.google.com/assets/colab-badge.svg\" alt=\"Open In Colab\"/></a>"
      ]
    },
    {
      "cell_type": "markdown",
      "source": [
        "### Punto 1.\n",
        "\n",
        "Dado un número entero, determinar si ese número corresponde al código ASCII de una vocal minúscula.\n",
        "\n"
      ],
      "metadata": {
        "id": "wrF2dkMmTkAE"
      }
    },
    {
      "cell_type": "code",
      "source": [
        "#Iniciar porque todos los inicios tienen un inicio xd\n",
        "n: int\n",
        "n=int(input(\"Ingrese un numerito, rey/reina:\"))\n",
        "\n",
        "#Iniciamos lo bueno >:)\n",
        "if n == 97:\n",
        "    print (\"Le cuento mor, su numerito SI hace parte de una vocal minúscula en condigo ASCII. Es la vocal a\")\n",
        "elif n == 101:\n",
        "    print(\"Le cuento mor, su numerito SI hace parte de una vocal minúscula en condigo ASCII. Es la vocal e\")\n",
        "elif n == 105:\n",
        "    print(\"Le cuento mor, su numerito SI hace parte de una vocal minúscula en condigo ASCII. Es la vocal i\")\n",
        "elif n == 111:\n",
        "    print(\"Le cuento mor, su numerito SI hace parte de una vocal minúscula en condigo ASCII. Es la vocal o\")\n",
        "elif n == 117:\n",
        "    print(\"Le cuento mor, su numerito SI hace parte de una vocal minúscula en condigo ASCII. Es la vocal u\")\n",
        "else:\n",
        "    print(\"F mor, tu numerito no hace parte de una vocal minúscula en codigo ASCII\")\n",
        "\n",
        "# Y breves"
      ],
      "metadata": {
        "id": "2k9HkwiiTqV8"
      },
      "execution_count": null,
      "outputs": []
    },
    {
      "cell_type": "code",
      "source": [
        "Ejemplito ahi de chill:\n",
        "\n",
        "Ingrese un numerito, rey/reina:\n",
        "n: 2\n",
        "F mor, tu numerito no hace parte de una vocal minúscula en codigo ASCII"
      ],
      "metadata": {
        "id": "VtjOirl_HJy4"
      },
      "execution_count": null,
      "outputs": []
    },
    {
      "cell_type": "markdown",
      "source": [
        "### Punto 2\n",
        "\n",
        "Dada una cadena de longitud 1, determine si el código ASCII de primera letra de la cadena es par o no."
      ],
      "metadata": {
        "id": "QbQx5XVOiS1Z"
      }
    },
    {
      "cell_type": "code",
      "source": [
        "palabra : str\n",
        "palabra = input(\"Ingrese un solo caracter unicamente: \")\n",
        "codigo_ascii = ord(palabra)\n",
        "\n",
        "if codigo_ascii % 2 == 0:\n",
        "    print(\"El código ASCII del caracter ingresado es par\")\n",
        "    print(codigo_ascii)\n",
        "else:\n",
        "    print(\"el código ASCII del caracter ingresado es impar\")\n",
        "    print(codigo_ascii)\n"
      ],
      "metadata": {
        "id": "RlvRnba8iMvC"
      },
      "execution_count": null,
      "outputs": []
    },
    {
      "cell_type": "markdown",
      "source": [
        "## Punto 3\n",
        "\n",
        "Dado un carácter, construya un programa en Python para determinar si el carácter es un dígito o no."
      ],
      "metadata": {
        "id": "n9TepLVIic1I"
      }
    },
    {
      "cell_type": "code",
      "source": [
        "print(\"Vamo a ve si el caracter que colocas es digito o nel\")\n",
        "n: float\n",
        "n: str\n",
        "n=float(input(\"Ingrese unicamente un solo caracter, el que quieras bebe: \"))\n",
        "\n",
        "if (n>=0 and n<=9):\n",
        "    print(\"El caracter que colocaste es un dígito\")\n",
        "else:\n",
        "    n:str == print(\"El caracter que colocaste NO es un dígito\")"
      ],
      "metadata": {
        "id": "45FzBQoOphAg"
      },
      "execution_count": null,
      "outputs": []
    },
    {
      "cell_type": "code",
      "source": [
        "Ejemplito de chill:\n",
        "\n",
        "Vamo a ve si el caracter que colocas es digito o nel\n",
        "n = 7\n",
        "El caracter que colocaste es un dígito\n"
      ],
      "metadata": {
        "id": "TOyl9DrjHNHn"
      },
      "execution_count": null,
      "outputs": []
    },
    {
      "cell_type": "markdown",
      "source": [
        "## Punto 4\n",
        "\n",
        "Dado un número real x, construya un programa que permita determinar si el número es positivo, negativo o cero. Para cada caso de debe imprimir el texto que se especifica a continuación:\n",
        "\n",
        "Positivo: \"El número x es positivo\"\n",
        "Negativo: \"El número x es negativo\"\n",
        "Cero (0): \"El número x es el neutro para la suma\""
      ],
      "metadata": {
        "id": "lDc6leTBpkSf"
      }
    },
    {
      "cell_type": "code",
      "source": [
        "x:float\n",
        "print(\"Ingrese un número x cualquiera\")\n",
        "x=int( input(\"x: \"))\n",
        "\n",
        "if x>0:\n",
        "    print(\"El numero que colocaste es positivo\")\n",
        "elif x<0:\n",
        "    print(\"El número que colocaste es negativo\")\n",
        "elif x == 0:\n",
        "    print(\"El número x es el neutro para la suma\")"
      ],
      "metadata": {
        "id": "xeJF8ZHop9im"
      },
      "execution_count": null,
      "outputs": []
    },
    {
      "cell_type": "code",
      "source": [
        "Ejemplito chevere:\n",
        "Ingrese un numero x cualquiera\n",
        "x = -4\n",
        "El número que colocaste es negativo\n"
      ],
      "metadata": {
        "id": "g7S_FIlgHPom"
      },
      "execution_count": null,
      "outputs": []
    },
    {
      "cell_type": "markdown",
      "source": [
        "### Punto 5\n",
        "\n",
        "  Dado el centro y el radio de un círculo, determinar si un punto de R2 pertenece o no al interior del círculo.\n",
        "  "
      ],
      "metadata": {
        "id": "Rpkn_GNhp_7d"
      }
    },
    {
      "cell_type": "code",
      "source": [
        "\n",
        "print(\"Primero definamos el centro de nuestro circulo\")\n",
        "centro_en_x =float(input(\"Escoge un centro en el eje x: \"))\n",
        "centro_en_y =float(input(\"Escoge un centro ahora en el eje y: \"))\n",
        "\n",
        "print (\"Ahora necesitamos un radio\")\n",
        "radio= float(input(\"Elije el radio que gustes: \"))\n",
        "\n",
        "#Ahora pedimos que coloque un punto (X,y) que desee\n",
        "print(\"Ahora selecciona cualquier punto del plano cartesiano con eje en x y eje en y\")\n",
        "punto_en_x =float (input(\"Ahora tu nuevo punto esta en x igual a: \"))\n",
        "punto_en_y=float (input(\"Y va acompañado de tu punto en el y igual a: \"))\n",
        "\n",
        "#Ahora nos guiaremos de la ecuacion general de la circunferencia (x-h)**2 + (y-k)**2 = r**2 y a partir\n",
        "#de ello trabajaremos bajo los 3 casos que puedan suceder:\n",
        "\n",
        "if ((punto_en_x-centro_en_x)**2 + (punto_en_y-centro_en_y)**2 < radio**2):\n",
        "    print(\"El punto\"+str(punto_en_x)+ \"y\" +str(punto_en_y)+\"Estan dentro del circulo\")\n",
        "\n",
        "elif ((punto_en_x-centro_en_x)**2 + (punto_en_y-centro_en_y)**2 == radio**2):\n",
        "    print(\"El punto\"+str(punto_en_x)+ \"y\" +str(punto_en_y)+\"Estan solo en el  circulo\")\n",
        "\n",
        "elif ((punto_en_x-centro_en_x)**2 + (punto_en_y-centro_en_y)**2 > radio**2):\n",
        "    print(\"El punto\"+str(punto_en_x)+ \"y\" +str(punto_en_y)+\"Estan fuera del circulo\")"
      ],
      "metadata": {
        "id": "7z0im8PW1rZ9"
      },
      "execution_count": null,
      "outputs": []
    },
    {
      "cell_type": "code",
      "source": [
        "Ejemplo de Dioses:\n",
        "\n",
        "Primero definamos el centro de nuestro circulo\n",
        "Escoge un centro en el eje x: 3\n",
        "Escoge un centro ahora en el eje y: 2\n",
        "Ahora necesitamos un radio\n",
        "Elije el radio que gustes: 1\n",
        "Ahora selecciona cualquier punto del plano cartesiano con eje en x y eje en y\n",
        "Ahora tu nuevo punto esta en x igual a: 9\n",
        "Y va acompañado de tu punto en el y igual a: 8\n",
        "El punto (9.0) y(8.0) Estan fuera del circulo\n"
      ],
      "metadata": {
        "id": "2YGJ_r5gHSlV"
      },
      "execution_count": null,
      "outputs": []
    },
    {
      "cell_type": "markdown",
      "source": [
        "##Punto 6\n",
        "\n",
        "Dadas tres longitudes positivas, determinar si con esas longitudes se puede construir un triángulo."
      ],
      "metadata": {
        "id": "1f30sjcU1uqN"
      }
    },
    {
      "cell_type": "code",
      "source": [
        "print(\"Necesitamos conocer cuanto mide cada lado de tu posible triangulo\")\n",
        "lado1= int(input(\"Cuanto es tu primer lado: \"))\n",
        "lado2= int(input(\"Cuanto es tu segundo lado: \"))\n",
        "lado3= int(input(\"Cuanto es tu tercer lado: \"))\n",
        "\n",
        "if (lado1 + lado2)>lado3:\n",
        "    print(\"Se puede formar un triángulo con los lados que colocaste c:\")\n",
        "else:\n",
        "    print(\"No se puede hacer un triángulo con los datos que colocaste, F :c\")"
      ],
      "metadata": {
        "id": "BvSsTGShGXgi"
      },
      "execution_count": null,
      "outputs": []
    },
    {
      "cell_type": "code",
      "source": [
        "Ejemplito asi bien hacker >:)\n",
        "\n",
        "Necesitamos conocer cuanto mide cada lado de tu posible triangulo\n",
        "Cuanto es tu primer lado: 1\n",
        "Cuanto es tu segundo lado: 2\n",
        "Cuanto es tu tercer lado: 9\n",
        "No se puede hacer un triángulo con los datos que colocaste, F :c\n"
      ],
      "metadata": {
        "id": "Nu8dPMhbHUym"
      },
      "execution_count": null,
      "outputs": []
    },
    {
      "cell_type": "code",
      "source": [],
      "metadata": {
        "id": "GZuAr9Htb1pn"
      },
      "execution_count": null,
      "outputs": []
    }
  ]
}